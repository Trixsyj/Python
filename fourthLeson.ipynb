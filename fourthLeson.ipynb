{
 "cells": [
  {
   "cell_type": "code",
   "execution_count": 5,
   "id": "a956f609",
   "metadata": {},
   "outputs": [
    {
     "data": {
      "text/plain": [
       "30"
      ]
     },
     "execution_count": 5,
     "metadata": {},
     "output_type": "execute_result"
    }
   ],
   "source": [
    "l = 5\n",
    "w = 3\n",
    "h = 2\n",
    "l*w*h"
   ]
  },
  {
   "cell_type": "code",
   "execution_count": 7,
   "id": "c89ecaba",
   "metadata": {},
   "outputs": [
    {
     "data": {
      "text/plain": [
       "113.04"
      ]
     },
     "execution_count": 7,
     "metadata": {},
     "output_type": "execute_result"
    }
   ],
   "source": [
    "import math as mt\n",
    "pi = 3.14\n",
    "r = 6\n",
    "h = 3\n",
    "((pi) * mt.pow(r, 2) * h)/3"
   ]
  },
  {
   "cell_type": "code",
   "execution_count": 8,
   "id": "fe4b9a42",
   "metadata": {},
   "outputs": [
    {
     "data": {
      "text/plain": [
       "1526.04"
      ]
     },
     "execution_count": 8,
     "metadata": {},
     "output_type": "execute_result"
    }
   ],
   "source": [
    "pi1 = 3.14\n",
    "r = 9\n",
    "h = 6\n",
    "((pi1)*mt.pow(r , 2) *h)"
   ]
  },
  {
   "cell_type": "code",
   "execution_count": 10,
   "id": "5c749a8a",
   "metadata": {},
   "outputs": [
    {
     "data": {
      "text/plain": [
       "61.569643333333346"
      ]
     },
     "execution_count": 10,
     "metadata": {},
     "output_type": "execute_result"
    }
   ],
   "source": [
    "pi2 = 3.14\n",
    "r = 2.45\n",
    "((4/3)*(pi2)* mt.pow(r , 3))\n"
   ]
  },
  {
   "cell_type": "code",
   "execution_count": null,
   "id": "37dff1d4",
   "metadata": {},
   "outputs": [],
   "source": [
    "student1 = ['Tom' , 29, True, 'male', 'bank']"
   ]
  },
  {
   "cell_type": "code",
   "execution_count": null,
   "id": "94e36b15",
   "metadata": {},
   "outputs": [],
   "source": []
  }
 ],
 "metadata": {
  "kernelspec": {
   "display_name": "Python 3",
   "language": "python",
   "name": "python3"
  },
  "language_info": {
   "codemirror_mode": {
    "name": "ipython",
    "version": 3
   },
   "file_extension": ".py",
   "mimetype": "text/x-python",
   "name": "python",
   "nbconvert_exporter": "python",
   "pygments_lexer": "ipython3",
   "version": "3.14.0"
  }
 },
 "nbformat": 4,
 "nbformat_minor": 5
}
